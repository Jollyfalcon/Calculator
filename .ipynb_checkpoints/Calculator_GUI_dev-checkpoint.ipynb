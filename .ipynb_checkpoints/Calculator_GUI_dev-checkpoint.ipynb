{
 "cells": [
  {
   "cell_type": "code",
   "execution_count": 8,
   "id": "5d62cf5e-defd-4115-b30e-d38c358099a3",
   "metadata": {},
   "outputs": [
    {
     "name": "stdout",
     "output_type": "stream",
     "text": [
      "merge_negatives list [4.0, '+', 9.0]\n",
      "List after negatives are merged: [4.0, '+', 9.0]\n",
      "The answer is:  13.0\n"
     ]
    }
   ],
   "source": [
    "#GUI for Calculator \n",
    "import tkinter as tk\n",
    "import Calculator as calc\n",
    "\n",
    "def main():\n",
    "    # Create the main window\n",
    "    root = tk.Tk()\n",
    "    #root.geometry(\"300x400\")\n",
    "    root.title('Calculator')\n",
    "    #variable for user entry field \n",
    "    entry_string=tk.StringVar()\n",
    "    # Create Calculation Window\n",
    "    entry_screen=tk.Entry(root,font=('Times New Roman',20),justify='right',relief='sunken',textvariable=entry_string) \n",
    "    entry_screen.grid(columnspan=4,row=0, padx = 5, pady = 5)\n",
    "    entry_screen.focus() \n",
    "    # Create buttons \n",
    "    calculate_button='='\n",
    "    clear_button='CLR'\n",
    "    button_list=(\n",
    "        ('(',')','^','/'),\n",
    "        ('7','8','9','*'),\n",
    "        ('4','5','6','-'),\n",
    "        ('1','2','3','+'),\n",
    "        (clear_button,'0','.',calculate_button)\n",
    "        )\n",
    "    for row_index, row_value in enumerate(button_list): \n",
    "        for column_index, column_value in enumerate(row_value):\n",
    "            button = tk.Button(root, text=column_value,font=('Times New Roman',16),width=4,height=2,command=lambda x=column_value: character_click(x))\n",
    "            button.grid(column = column_index, row = row_index+1, padx = 3, pady = 3)\n",
    "\n",
    "    #define set to be used for button press logic\n",
    "    flattened_button_list=[item for sublist in button_list for item in sublist]\n",
    "    character_input=set(flattened_button_list)-{calculate_button, clear_button}\n",
    "    \n",
    "    #Function for button presses of character inputs\n",
    "    def character_click(value):\n",
    "        cursor_position=entry_screen.index(tk.INSERT)\n",
    "        if value in character_input:\n",
    "            entry_string.set(entry_string.get()[:cursor_position]+value+entry_string.get()[cursor_position:])\n",
    "            entry_screen.icursor(cursor_position+1)\n",
    "        elif value==calculate_button:\n",
    "            entry_string.set(calc.calculator_main(entry_string.get()))\n",
    "            entry_screen.icursor(len(entry_string.get()))\n",
    "        elif value==clear_button:\n",
    "            entry_string.set('')\n",
    "    #Function for key press \n",
    "    def on_key_press(event): \n",
    "        if event.keysym == \"Return\":\n",
    "            character_click('=')\n",
    "    #call for keypress function \n",
    "    root.bind(\"<KeyPress>\",on_key_press)\n",
    "            \n",
    "    \n",
    "    # Start the GUI event loop\n",
    "    root.mainloop()\n",
    "\n",
    "if __name__ == \"__main__\":\n",
    "    main()\n",
    "\n"
   ]
  },
  {
   "cell_type": "code",
   "execution_count": null,
   "id": "9a56256c-5124-490b-a22a-71717aeb909b",
   "metadata": {},
   "outputs": [],
   "source": []
  },
  {
   "cell_type": "code",
   "execution_count": null,
   "id": "6a67caf9-4a85-46d2-b476-faea824b2aae",
   "metadata": {},
   "outputs": [],
   "source": []
  }
 ],
 "metadata": {
  "kernelspec": {
   "display_name": "Python 3 (ipykernel)",
   "language": "python",
   "name": "python3"
  },
  "language_info": {
   "codemirror_mode": {
    "name": "ipython",
    "version": 3
   },
   "file_extension": ".py",
   "mimetype": "text/x-python",
   "name": "python",
   "nbconvert_exporter": "python",
   "pygments_lexer": "ipython3",
   "version": "3.12.7"
  }
 },
 "nbformat": 4,
 "nbformat_minor": 5
}
