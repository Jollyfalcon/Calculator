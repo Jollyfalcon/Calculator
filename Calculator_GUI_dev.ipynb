{
 "cells": [
  {
   "cell_type": "code",
   "execution_count": 6,
   "id": "5d62cf5e-defd-4115-b30e-d38c358099a3",
   "metadata": {},
   "outputs": [
    {
     "name": "stdout",
     "output_type": "stream",
     "text": [
      "^\n",
      "9\n",
      "2\n",
      "+\n",
      "6\n",
      "9\n"
     ]
    }
   ],
   "source": [
    "#GUI testing area for Calculator \n",
    "import tkinter as tk\n",
    "import Calculator as calc\n",
    "def main():\n",
    "    # Create the main window\n",
    "    root = tk.Tk()\n",
    "    root.geometry(\"300x500\")\n",
    "    root.title('Calculator')\n",
    "\n",
    "    # Create Calculation Window\n",
    "    entry_screen=tk.Entry() \n",
    "    entry_screen.grid(columnspan=4,row=0)\n",
    "    # Create buttons \n",
    "    button_list=(\n",
    "        ('n/a','n/a','^','/'),\n",
    "        ('7','8','9','x'),\n",
    "        ('4','5','6','-'),\n",
    "        ('1','2','3','+'),\n",
    "        ('+/-','0','.','='))\n",
    "    for row_index, row_value in enumerate(button_list): \n",
    "        for column_index, column_value in enumerate(row_value):\n",
    "            button = tk.Button(root, text=column_value,font=('Times New Roman',16),width=3,height=2,command=lambda x=column_value: character_click(x))\n",
    "            button.grid(column = column_index, row = row_index+1, padx = 5, pady = 5)\n",
    "        \n",
    "    # Start the GUI event loop\n",
    "    root.mainloop()\n",
    "def character_click(value):\n",
    "    print(value)\n",
    "\n",
    "if __name__ == \"__main__\":\n",
    "    main()\n",
    "\n"
   ]
  },
  {
   "cell_type": "code",
   "execution_count": null,
   "id": "8dfb4535-1213-4d0d-8c55-b70d37b7d993",
   "metadata": {},
   "outputs": [],
   "source": []
  }
 ],
 "metadata": {
  "kernelspec": {
   "display_name": "Python 3 (ipykernel)",
   "language": "python",
   "name": "python3"
  },
  "language_info": {
   "codemirror_mode": {
    "name": "ipython",
    "version": 3
   },
   "file_extension": ".py",
   "mimetype": "text/x-python",
   "name": "python",
   "nbconvert_exporter": "python",
   "pygments_lexer": "ipython3",
   "version": "3.12.7"
  }
 },
 "nbformat": 4,
 "nbformat_minor": 5
}
